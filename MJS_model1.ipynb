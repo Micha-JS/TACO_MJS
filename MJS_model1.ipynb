{
 "cells": [
  {
   "cell_type": "code",
   "execution_count": 2,
   "id": "384217ad-9664-47e1-9d7e-7ce13b9b3347",
   "metadata": {},
   "outputs": [
    {
     "name": "stderr",
     "output_type": "stream",
     "text": [
      "2023-04-12 21:43:29.920626: I tensorflow/core/platform/cpu_feature_guard.cc:193] This TensorFlow binary is optimized with oneAPI Deep Neural Network Library (oneDNN) to use the following CPU instructions in performance-critical operations:  SSE4.1 SSE4.2 AVX AVX2 FMA\n",
      "To enable them in other operations, rebuild TensorFlow with the appropriate compiler flags.\n"
     ]
    }
   ],
   "source": [
    "import os\n",
    "import numpy as np\n",
    "import pandas as pd\n",
    "import json\n",
    "from datetime import datetime\n",
    "\n",
    "import tensorflow as tf\n",
    "from tensorflow.keras.applications.efficientnet import preprocess_input\n",
    "from tensorflow.keras.preprocessing.image import ImageDataGenerator\n",
    "from tensorflow.keras.layers import Dense, GlobalAveragePooling2D\n",
    "from tensorflow.keras.models import Model\n",
    "from tensorflow.keras.optimizers import Adam\n",
    "from tensorflow.keras.applications import EfficientNetV2B1\n",
    "\n",
    "import mlflow\n",
    "import mlflow.tensorflow\n",
    "\n",
    "from sklearn.model_selection import train_test_split\n",
    "from sklearn import metrics\n",
    "\n",
    "from PIL import Image\n",
    "import matplotlib.pyplot as plt\n",
    "import seaborn as sns"
   ]
  },
  {
   "cell_type": "code",
   "execution_count": 5,
   "id": "eb977db9-e050-4375-a867-cc50f5f1b1c3",
   "metadata": {},
   "outputs": [],
   "source": [
    "with open('./config.json', 'r') as f:\n",
    "    config = json.loads(f.read())\n",
    "\n",
    "image_dir = config['img_dir']\n",
    "img_size = config['img_size']\n",
    "\n",
    "train_df = pd.read_csv(config['train_metadata_filepath'])\n",
    "val_df = pd.read_csv(config['val_metadata_filepath'])\n",
    "test_df = pd.read_csv('./data/splits/test_recycle_2023-04-11.csv')\n",
    "\n",
    "train_df = pd.read_csv('./data/splits/test_recycle_2023-04-11.csv')\n",
    "\n",
    "patience = config['patience']\n",
    "epochs = config['epochs']\n",
    "\n",
    "seed = config['seed']\n"
   ]
  },
  {
   "cell_type": "code",
   "execution_count": 6,
   "id": "52e4427f-ae10-411f-b36e-8fff2b6bedf3",
   "metadata": {},
   "outputs": [
    {
     "data": {
      "text/plain": [
       "{'seed': 42,\n",
       " 'img_dir': './data/all_images',\n",
       " 'img_size': 675,\n",
       " 'batch_size': 12,\n",
       " 'epochs': 100,\n",
       " 'learning_rate': 1e-05,\n",
       " 'patience': 12,\n",
       " 'train_metadata_filepath': './data/splits/train_recycle_partially_balanced_2023-04-11.csv',\n",
       " 'val_metadata_filepath': './data/splits/val_recycle_2023-04-11.csv'}"
      ]
     },
     "execution_count": 6,
     "metadata": {},
     "output_type": "execute_result"
    }
   ],
   "source": [
    "config\n"
   ]
  },
  {
   "cell_type": "code",
   "execution_count": 11,
   "id": "05cecf2f-8eec-471f-ae25-5b8fa4f81c58",
   "metadata": {},
   "outputs": [
    {
     "data": {
      "text/plain": [
       "'20230412-220737rec_imgSize_40'"
      ]
     },
     "execution_count": 11,
     "metadata": {},
     "output_type": "execute_result"
    }
   ],
   "source": [
    "type(datetime.now().strftime(\"%Y%m%d-%H%M%S\"))\n",
    "custom_run_id = datetime.now().strftime(\"%Y%m%d-%H%M%S\") + \"rec_imgSize_\" + str(img_size)\n",
    "custom_run_id"
   ]
  },
  {
   "cell_type": "code",
   "execution_count": 8,
   "id": "ca984d71-e8b5-4f87-8df2-eaff7fa81b88",
   "metadata": {},
   "outputs": [
    {
     "name": "stdout",
     "output_type": "stream",
     "text": [
      "Found 237 validated image filenames.\n",
      "Found 199 validated image filenames.\n",
      "Found 237 validated image filenames.\n"
     ]
    }
   ],
   "source": [
    "img_size = 40\n",
    "batch_size = 15\n",
    "epochs = 1\n",
    "learning_rate = 1e-5\n",
    "\n",
    "labels = list(train_df.columns)[1:]\n",
    "\n",
    "\n",
    "# Define data generators for train and validation sets\n",
    "datagen_train = tf.keras.preprocessing.image.ImageDataGenerator(\n",
    "    rescale=1./255,\n",
    "    #rotation_range=15,\n",
    "    #width_shift_range=0.2,\n",
    "    #height_shift_range=0.2,\n",
    "    #shear_range=0.005,\n",
    "    #zoom_range=[0.9, 1.4],\n",
    "    #horizontal_flip=True,\n",
    "    #vertical_flip=False,\n",
    "    #brightness_range=(.8,1.2),\n",
    "    fill_mode='nearest',\n",
    ")\n",
    "\n",
    "datagen_val = tf.keras.preprocessing.image.ImageDataGenerator(\n",
    "    rescale=1./255,\n",
    ")\n",
    "\n",
    "train_generator = datagen_train.flow_from_dataframe(\n",
    "    dataframe=train_df,\n",
    "    directory='/Users/mjs/Desktop/Dev/TACO/data/all_images',\n",
    "    x_col='file_name',\n",
    "    y_col=labels,\n",
    "    class_mode='raw',\n",
    "    target_size=(img_size, img_size), \n",
    "    batch_size=batch_size,\n",
    "    shuffle=True,\n",
    ")\n",
    "\n",
    "val_generator = datagen_val.flow_from_dataframe(\n",
    "    dataframe=val_df,\n",
    "    directory='/Users/mjs/Desktop/Dev/TACO/data/all_images',\n",
    "    x_col='file_name',\n",
    "    y_col=labels,\n",
    "    class_mode='raw',\n",
    "    target_size=(img_size, img_size), \n",
    "    batch_size=batch_size,\n",
    "    shuffle=False,\n",
    ")\n",
    "\n",
    "test_generator = datagen_val.flow_from_dataframe(\n",
    "    dataframe=test_df,\n",
    "    directory='/Users/mjs/Desktop/Dev/TACO/data/all_images',\n",
    "    x_col='file_name',\n",
    "    y_col=labels,\n",
    "    class_mode='raw',\n",
    "    target_size=(img_size, img_size), \n",
    "    batch_size=batch_size,\n",
    "    shuffle=False,\n",
    ")\n"
   ]
  },
  {
   "cell_type": "code",
   "execution_count": 169,
   "id": "dc27eaac-4293-4d44-bb98-22a12cf5ec0f",
   "metadata": {},
   "outputs": [],
   "source": [
    "def lr_function(epoch):\n",
    "    start_lr = 1e-6; min_lr = 1e-6; max_lr = 1e-4\n",
    "    rampup_epochs = 5; sustain_epochs = 0; exp_decay = .8\n",
    "    \n",
    "    def lr(epoch, start_lr, min_lr, max_lr, rampup_epochs, \n",
    "           sustain_epochs, exp_decay):\n",
    "        if epoch < rampup_epochs:\n",
    "            lr = ((max_lr - start_lr) / rampup_epochs \n",
    "                        * epoch + start_lr)\n",
    "        elif epoch < rampup_epochs + sustain_epochs:\n",
    "            lr = max_lr\n",
    "        else:\n",
    "            lr = ((max_lr - min_lr) * \n",
    "                      exp_decay**(epoch - rampup_epochs -\n",
    "                                    sustain_epochs) + min_lr)\n",
    "        return lr\n",
    "\n",
    "    return lr(epoch, start_lr, min_lr, max_lr, \n",
    "              rampup_epochs, sustain_epochs, exp_decay)"
   ]
  },
  {
   "cell_type": "code",
   "execution_count": null,
   "id": "b0419bfd-14a3-4dc0-b903-dda5de775136",
   "metadata": {},
   "outputs": [],
   "source": [
    "base_model = EfficientNetV2B1(weights='imagenet', include_top=False, input_shape=(img_size, img_size, 3))\n",
    "\n",
    "\n",
    "for layer in base_model.layers:\n",
    "    layer.trainable = True\n",
    "\n",
    "x = base_model.output\n",
    "x = tf.keras.layers.GlobalAveragePooling2D()(x)\n",
    "x = tf.keras.layers.Dense(1024, activation='relu')(x)\n",
    "predictions = Dense(len(labels), activation='sigmoid')(x)\n",
    "\n",
    "\n",
    "model = tf.keras.models.Model(inputs=base_model.input, outputs=predictions)\n",
    "\n",
    "optimizer = Adam(learning_rate=learning_rate)\n",
    "#optimizer = Adam(learning_rate=lr_function(epochs))\n",
    "\n",
    "\n",
    "model.compile(optimizer=optimizer, \n",
    "                    loss='binary_crossentropy', \n",
    "                    metrics=['accuracy'],\n",
    "                    )\n",
    "\n",
    "early_stopping_cb = tf.keras.callbacks.EarlyStopping(patience=5, monitor=\"val_loss\", restore_best_weights=True)\n",
    "\n",
    "mlflow.tensorflow.autolog()\n",
    "\n",
    "history = model.fit(train_generator,\n",
    "                    validation_data=val_generator,\n",
    "                    epochs=epochs,\n",
    "                    batch_size=batch_size,\n",
    "                    callbacks=[early_stopping_cb],\n",
    "                    )\n",
    "\n",
    "mlflow.log_params({\n",
    "    \"img_size\": img_size,\n",
    "    \"learning_rate\": learning_rate,\n",
    "    \"labels\": labels,\n",
    "    \"epochs\": epochs,\n",
    "    \"batch_size\": batch_size\n",
    "})"
   ]
  },
  {
   "cell_type": "code",
   "execution_count": null,
   "id": "15bd8833-0bd2-4903-8b2f-39523d52f622",
   "metadata": {},
   "outputs": [],
   "source": []
  },
  {
   "cell_type": "code",
   "execution_count": null,
   "id": "9c02d3c9-c59f-4a1b-9380-f47209e7d355",
   "metadata": {},
   "outputs": [],
   "source": [
    "plt.plot(range(1,range(1,(epochs+1))),history.history['loss'],label = 'loss')\n",
    "plt.plot(range(1,range(1,(epochs+1))),history.history['val_loss'],label = 'val_loss')\n",
    "plt.legend();\n",
    "plt.show()\n",
    "plt.close()\n",
    "plt.plot(range(1,range(1,(epochs+1))),history.history['accuracy'],label = 'accuracy')\n",
    "plt.plot(range(1,range(1,(epochs+1))),history.history['val_accuracy'],label = 'val_accuracy')\n",
    "plt.legend();"
   ]
  },
  {
   "cell_type": "code",
   "execution_count": 129,
   "id": "824d0d91-6402-4b53-bd6e-6e472fe61941",
   "metadata": {},
   "outputs": [
    {
     "name": "stdout",
     "output_type": "stream",
     "text": [
      "28/28 [==============================] - 25s 894ms/step - loss: 0.1221 - accuracy: 0.0060\n",
      "Validation loss: 0.122\n",
      "Validation accuracy: 0.006\n"
     ]
    }
   ],
   "source": [
    "test_history = model.predict(\n",
    "                        test_generator,\n",
    "                        use_multiprocessing=False,\n",
    "                        verbose=1)"
   ]
  },
  {
   "cell_type": "code",
   "execution_count": 15,
   "id": "86568452-3fa3-48fb-820e-2d6abecfcad5",
   "metadata": {},
   "outputs": [],
   "source": [
    "old_model = mlflow.keras.load_model('./mlruns/0/2969d2146ed042fdad1f23e2b341f725/artifacts/model')"
   ]
  },
  {
   "cell_type": "code",
   "execution_count": 16,
   "id": "d40f0745-4bef-41d9-a036-739b2b43f1fb",
   "metadata": {},
   "outputs": [
    {
     "name": "stdout",
     "output_type": "stream",
     "text": [
      "14/14 [==============================] - 25s 2s/step\n"
     ]
    }
   ],
   "source": [
    "test_history = old_model.predict(\n",
    "                        val_generator,\n",
    "                        #steps=steps_test,\n",
    "                        #callbacks=None,\n",
    "                       #max_queue_size=10,\n",
    "                        #workers=-1,\n",
    "                        use_multiprocessing=False,\n",
    "                       verbose=1)"
   ]
  },
  {
   "cell_type": "code",
   "execution_count": null,
   "id": "2c84783c-c75d-4128-a667-af4050b5fdb1",
   "metadata": {},
   "outputs": [],
   "source": []
  },
  {
   "cell_type": "code",
   "execution_count": null,
   "id": "9170b259-f514-4e6c-84d6-0fce956902cc",
   "metadata": {},
   "outputs": [],
   "source": []
  }
 ],
 "metadata": {
  "kernelspec": {
   "display_name": "DLG",
   "language": "python",
   "name": "dlg"
  },
  "language_info": {
   "codemirror_mode": {
    "name": "ipython",
    "version": 3
   },
   "file_extension": ".py",
   "mimetype": "text/x-python",
   "name": "python",
   "nbconvert_exporter": "python",
   "pygments_lexer": "ipython3",
   "version": "3.10.8"
  }
 },
 "nbformat": 4,
 "nbformat_minor": 5
}
